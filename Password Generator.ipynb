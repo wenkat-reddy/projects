{
 "cells": [
  {
   "cell_type": "markdown",
   "id": "d52a36ff-8a10-4552-bfa2-9d6559ccee99",
   "metadata": {},
   "source": [
    "# Password Generator"
   ]
  },
  {
   "cell_type": "code",
   "execution_count": null,
   "id": "21cf835f-8073-4f95-8976-fcfa18693680",
   "metadata": {},
   "outputs": [],
   "source": [
    "import random\n",
    "import string\n",
    "\n",
    "def generate_password(length=12, use_symbols=True): # default are given\n",
    "    # Define character sets\n",
    "    lower = string.ascii_lowercase # for lower characters\n",
    "    upper = string.ascii_uppercase # for upper characters\n",
    "    digits = string.digits         # for digits\n",
    "    symbols = string.punctuation   # for symbols\n",
    "\n",
    "    # Combine the character sets\n",
    "    all_characters = lower + upper + digits\n",
    "    if use_symbols:\n",
    "        all_characters += symbols\n",
    "\n",
    "    # Randomly select characters to form the password\n",
    "    password = ''.join(random.choice(all_characters) for _ in range(length))\n",
    "\n",
    "    return password\n",
    "\n",
    "# Example usage\n",
    "password_length = int(input(\"Enter desired password length: \"))\n",
    "use_symbols = input(\"Include symbols? (yes/no): \").strip().lower() == 'yes'\n",
    "\n",
    "password = generate_password(password_length, use_symbols)\n",
    "print(f\"Generated password: {password}\")\n"
   ]
  }
 ],
 "metadata": {
  "kernelspec": {
   "display_name": "Python 3 (ipykernel)",
   "language": "python",
   "name": "python3"
  },
  "language_info": {
   "codemirror_mode": {
    "name": "ipython",
    "version": 3
   },
   "file_extension": ".py",
   "mimetype": "text/x-python",
   "name": "python",
   "nbconvert_exporter": "python",
   "pygments_lexer": "ipython3",
   "version": "3.12.4"
  }
 },
 "nbformat": 4,
 "nbformat_minor": 5
}
